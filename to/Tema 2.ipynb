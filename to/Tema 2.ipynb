{
 "cells": [
  {
   "cell_type": "markdown",
   "metadata": {},
   "source": [
    "# Tema 2"
   ]
  },
  {
   "cell_type": "code",
   "execution_count": 1,
   "metadata": {},
   "outputs": [],
   "source": [
    "import numpy as np"
   ]
  },
  {
   "cell_type": "markdown",
   "metadata": {},
   "source": [
    "## 1. Inversa unei matrici\n",
    "\n",
    "Folosim metoda Gauss. "
   ]
  },
  {
   "cell_type": "code",
   "execution_count": 2,
   "metadata": {},
   "outputs": [],
   "source": [
    "def GPP(M):\n",
    "    N = M.shape[0]\n",
    "    M = M.copy()\n",
    "\n",
    "    for k in range(N - 1):\n",
    "        pivot = M[k, k]\n",
    "        \n",
    "        # Mă asigur că fiecare rând începe cu 1\n",
    "        if pivot != 1:\n",
    "            M[k] *= 1/pivot\n",
    "\n",
    "        # Selectez coloana\n",
    "        ratios = M[k + 1:, k]\n",
    "\n",
    "        # Determin raportul pentru fiecare rând\n",
    "        ratios = ratios / M[k, k]\n",
    "\n",
    "        row = M[k, :]\n",
    "\n",
    "        # Înmulțesc fiecare raport cu primul rând\n",
    "        difference = np.outer(ratios, row)\n",
    "\n",
    "        # Actualizez matricea\n",
    "        M[k + 1:, :] -= difference\n",
    "\n",
    "    return M\n",
    "\n",
    "def inverse(A):\n",
    "    N = A.shape[0]\n",
    "    \n",
    "    M = np.hstack((A, np.eye(3)))\n",
    "    \n",
    "    U = GPP(M)\n",
    "\n",
    "    for i in range(1, N):\n",
    "        for j in range(i):\n",
    "            ratio = U[j, i] / U[i, i]\n",
    "            U[j] -= ratio * U[i, :]\n",
    "\n",
    "    return U[:, N:]"
   ]
  },
  {
   "cell_type": "code",
   "execution_count": 3,
   "metadata": {},
   "outputs": [
    {
     "name": "stdout",
     "output_type": "stream",
     "text": [
      "[[-24.  20.  -5.]\n",
      " [ 18. -15.   4.]\n",
      " [  5.  -4.   1.]]\n"
     ]
    }
   ],
   "source": [
    "A = np.array([\n",
    "    [1, 0, 5],\n",
    "    [2, 1, 6],\n",
    "    [3, 4, 0]\n",
    "], dtype=np.float)\n",
    "\n",
    "inv = inverse(A)\n",
    "\n",
    "print(inv)"
   ]
  },
  {
   "cell_type": "markdown",
   "metadata": {},
   "source": [
    "## 2. Lema substituției"
   ]
  },
  {
   "cell_type": "code",
   "execution_count": 4,
   "metadata": {
    "scrolled": true
   },
   "outputs": [],
   "source": [
    "B = np.array([\n",
    "    [1, 0, 0],\n",
    "    [0, 2, 0],\n",
    "    [0, 0, 1]\n",
    "])\n",
    "N = B.shape[0]\n",
    "\n",
    "B_inv = inverse(B)\n",
    "\n",
    "C = np.array([2, 1, 1], dtype=np.float)\n",
    "\n",
    "k = 1\n",
    "\n",
    "B_tilde = B.copy()\n",
    "B_tilde[:, k] = C"
   ]
  },
  {
   "cell_type": "code",
   "execution_count": 5,
   "metadata": {},
   "outputs": [
    {
     "name": "stdout",
     "output_type": "stream",
     "text": [
      "Inversul lui B_tilde:\n",
      "[[ 1. -2.  0.]\n",
      " [ 0.  1.  0.]\n",
      " [ 0. -1.  1.]]\n"
     ]
    }
   ],
   "source": [
    "y = B_inv @ C\n",
    "\n",
    "eta = -y / y[k]\n",
    "eta[k] = 1 / y[k]\n",
    "\n",
    "E_k = np.eye(N)\n",
    "E_k[:, k] = eta\n",
    "\n",
    "B_tilde_inv = E_k @ B_inv\n",
    "\n",
    "print(\"Inversul lui B_tilde:\")\n",
    "print(B_tilde_inv)"
   ]
  }
 ],
 "metadata": {
  "kernelspec": {
   "display_name": "Python 3",
   "language": "python",
   "name": "python3"
  },
  "language_info": {
   "codemirror_mode": {
    "name": "ipython",
    "version": 3
   },
   "file_extension": ".py",
   "mimetype": "text/x-python",
   "name": "python",
   "nbconvert_exporter": "python",
   "pygments_lexer": "ipython3",
   "version": "3.8.6"
  }
 },
 "nbformat": 4,
 "nbformat_minor": 4
}
