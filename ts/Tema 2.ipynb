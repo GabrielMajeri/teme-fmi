{
 "cells": [
  {
   "cell_type": "markdown",
   "metadata": {},
   "source": [
    "# Proiectul Nr. 20\n",
    "\n",
    "- Generarea variabilei Beta(0.3, 5) prin două metode\n",
    "\n",
    "- Generarea variabilei normale prin metoda polară"
   ]
  },
  {
   "cell_type": "code",
   "execution_count": 1,
   "metadata": {},
   "outputs": [],
   "source": [
    "import random\n",
    "import numpy as np"
   ]
  },
  {
   "cell_type": "markdown",
   "metadata": {},
   "source": [
    "## Generarea variabilei Beta\n",
    "\n",
    "Folosim cele două metode descrise în cursul 6."
   ]
  },
  {
   "cell_type": "code",
   "execution_count": 2,
   "metadata": {},
   "outputs": [],
   "source": [
    "def gen_beta1(a, b):\n",
    "    \"Folosind distribuția gamma\"\n",
    "    \n",
    "    x_1 = random.gammavariate(a, 1)\n",
    "    x_2 = random.gammavariate(b, 1)\n",
    "    \n",
    "    return x_1 / (x_1 + x_2)\n",
    "\n",
    "def gen_beta2(a, b):\n",
    "    \"Folosind distribuții uniforme\"\n",
    "\n",
    "    while True:\n",
    "        v = random.uniform(0, 1) ** (1 / a)\n",
    "        t = random.uniform(0, 1) ** (1 / b)\n",
    "\n",
    "        if v + t < 1:\n",
    "            return v / (v + t)"
   ]
  },
  {
   "cell_type": "markdown",
   "metadata": {},
   "source": [
    "### Verificare\n",
    "\n",
    "Vedem cât ar trebui să fie media și deviația standard a distribuției folosind formulele de pe Wikipedia.\n",
    "\n",
    "După aceea, generăm multe eșantioane cu funcțiile de mai sus și vedem dacă respectă aceste proprietăți."
   ]
  },
  {
   "cell_type": "code",
   "execution_count": 3,
   "metadata": {},
   "outputs": [
    {
     "name": "stdout",
     "output_type": "stream",
     "text": [
      "Valori teoretice:\n",
      "Medie: 0.05660377358490566 - Deviație standard: 0.09206604461778616\n",
      "\n",
      "Eșantioane generate prin prima metodă\n",
      "Medie: 0.05732324824038503 - Deviație standard: 0.0909394396619955\n",
      "Medie: 0.05705285603190665 - Deviație standard: 0.09221204298491893\n"
     ]
    }
   ],
   "source": [
    "num_samples = 10_000\n",
    "\n",
    "a = 0.3\n",
    "b = 5\n",
    "\n",
    "# Formulele sunt luate de pe https://en.wikipedia.org/wiki/Beta_distribution\n",
    "mean = a / (a + b)\n",
    "sd = np.sqrt((a * b)/(((a + b)**2)*(a + b + 1)))\n",
    "\n",
    "sample1 = [gen_beta1(a, b) for _ in range(num_samples)]\n",
    "sample2 = [gen_beta2(a, b) for _ in range(num_samples)]\n",
    "\n",
    "print(\"Valori teoretice:\")\n",
    "print(\"Medie:\", mean, \"-\", \"Deviație standard:\", sd)\n",
    "\n",
    "print()\n",
    "\n",
    "print(\"Eșantioane generate prin prima metodă\")\n",
    "print(\"Medie:\", np.mean(sample1), \"-\", \"Deviație standard:\", np.std(sample1))\n",
    "print(\"Medie:\", np.mean(sample2), \"-\", \"Deviație standard:\", np.std(sample2))"
   ]
  },
  {
   "cell_type": "markdown",
   "metadata": {},
   "source": [
    "## Generarea variabilei normale\n",
    "\n",
    "Folosind metoda polară descrisă în cursul 6."
   ]
  },
  {
   "cell_type": "code",
   "execution_count": 4,
   "metadata": {},
   "outputs": [],
   "source": [
    "def gen_norm_polar():\n",
    "    while True:\n",
    "        v_1 = random.uniform(-1, 1)\n",
    "        v_2 = random.uniform(-1, 1)\n",
    "\n",
    "        s = (v_1 ** 2) + (v_2 ** 2)\n",
    "\n",
    "        if s < 1:\n",
    "            z_1 = v_1 * np.sqrt((-2 * np.log(s)) / s)\n",
    "            z_2 = v_2 * np.sqrt((-2 * np.log(s)) / s)\n",
    "\n",
    "            return [z_1, z_2]"
   ]
  },
  {
   "cell_type": "markdown",
   "metadata": {},
   "source": [
    "### Verificare"
   ]
  },
  {
   "cell_type": "code",
   "execution_count": 5,
   "metadata": {},
   "outputs": [
    {
     "name": "stdout",
     "output_type": "stream",
     "text": [
      "Medie: 0.006806174280635418 - Deviație standard: 1.001600127882763\n"
     ]
    }
   ],
   "source": [
    "sample = [x for _ in range(num_samples) for x in gen_norm_polar()]\n",
    "\n",
    "print(\"Medie:\", np.mean(sample), \"-\", \"Deviație standard:\", np.std(sample))"
   ]
  }
 ],
 "metadata": {
  "kernelspec": {
   "display_name": "Python 3",
   "language": "python",
   "name": "python3"
  },
  "language_info": {
   "codemirror_mode": {
    "name": "ipython",
    "version": 3
   },
   "file_extension": ".py",
   "mimetype": "text/x-python",
   "name": "python",
   "nbconvert_exporter": "python",
   "pygments_lexer": "ipython3",
   "version": "3.8.6"
  }
 },
 "nbformat": 4,
 "nbformat_minor": 4
}
