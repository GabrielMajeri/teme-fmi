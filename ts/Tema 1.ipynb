{
 "cells": [
  {
   "cell_type": "markdown",
   "metadata": {},
   "source": [
    "# Testarea strategiilor de blackjack cu metoda Monte Carlo\n",
    "\n",
    "Obiectivul este să simulăm jocul de blackjack (21) în Python, și să folosim metoda Monte Carlo ca să vedem care sunt cele mai bune strategii de joc."
   ]
  },
  {
   "cell_type": "code",
   "execution_count": 1,
   "metadata": {},
   "outputs": [],
   "source": [
    "from enum import Enum, auto\n",
    "import math\n",
    "import random\n",
    "\n",
    "random.seed(7)"
   ]
  },
  {
   "cell_type": "code",
   "execution_count": 2,
   "metadata": {},
   "outputs": [],
   "source": [
    "class Card(Enum):\n",
    "    \"Represents a standard playing card.\"\n",
    "\n",
    "    _2 = auto()\n",
    "    _3 = auto()\n",
    "    _4 = auto()\n",
    "    _5 = auto()\n",
    "    _6 = auto()\n",
    "    _7 = auto()\n",
    "    _8 = auto()\n",
    "    _9 = auto()\n",
    "    _10 = auto()\n",
    "    A = auto()\n",
    "    J = auto()\n",
    "    Q = auto()\n",
    "    K = auto()\n",
    "    \n",
    "    @property\n",
    "    def points(self):\n",
    "        if self == Card._2:\n",
    "            return 2\n",
    "        elif self == Card._3:\n",
    "            return 3\n",
    "        elif self == Card._4:\n",
    "            return 4\n",
    "        elif self == Card._5:\n",
    "            return 5\n",
    "        elif self == Card._6:\n",
    "            return 6\n",
    "        elif self == Card._7:\n",
    "            return 7\n",
    "        elif self == Card._8:\n",
    "            return 8\n",
    "        elif self == Card._9:\n",
    "            return 9\n",
    "        elif self == Card.A:\n",
    "            return 11\n",
    "        else:\n",
    "            return 10\n",
    "    \n",
    "    def __str__(self):\n",
    "        return self.name.replace('_', '')\n",
    "\n",
    "    def __repr__(self):\n",
    "        return f'Card({self})'"
   ]
  },
  {
   "cell_type": "code",
   "execution_count": 3,
   "metadata": {},
   "outputs": [],
   "source": [
    "class Deck:\n",
    "    \"A standard deck of 52 cards.\"\n",
    "\n",
    "    def __init__(self):\n",
    "        self.cards = []\n",
    "        \n",
    "        self.cards += 4 * [Card.A]\n",
    "        self.cards += 4 * [Card._2]\n",
    "        self.cards += 4 * [Card._3]\n",
    "        self.cards += 4 * [Card._4]\n",
    "        self.cards += 4 * [Card._5]\n",
    "        self.cards += 4 * [Card._6]\n",
    "        self.cards += 4 * [Card._7]\n",
    "        self.cards += 4 * [Card._8]\n",
    "        self.cards += 4 * [Card._9]\n",
    "        self.cards += 4 * [Card._10]\n",
    "        self.cards += 4 * [Card.J]\n",
    "        self.cards += 4 * [Card.Q]\n",
    "        self.cards += 4 * [Card.K]\n",
    "        \n",
    "        assert self.is_complete(), \"Deck is missing cards\"\n",
    "    \n",
    "    @property\n",
    "    def num_cards(self):\n",
    "        return len(self.cards)\n",
    "\n",
    "    def is_complete(self):\n",
    "        return self.num_cards == 52\n",
    "    \n",
    "    def take_card(self):\n",
    "        assert self.num_cards > 0, \"Deck is empty\"\n",
    "        index = random.randint(0, self.num_cards - 1)\n",
    "        return self.cards.pop(index)\n",
    "    \n",
    "    def take_cards(self, num):\n",
    "        return [self.take_card() for _ in range(num)]"
   ]
  },
  {
   "cell_type": "code",
   "execution_count": 4,
   "metadata": {},
   "outputs": [],
   "source": [
    "class Action(Enum):\n",
    "    \"An action the player can take.\"\n",
    "\n",
    "    HIT = auto()\n",
    "    STAND = auto()"
   ]
  },
  {
   "cell_type": "code",
   "execution_count": 5,
   "metadata": {},
   "outputs": [],
   "source": [
    "class Winner(Enum):\n",
    "    \"The winner of a match\"\n",
    "\n",
    "    PLAYER = auto()\n",
    "    DEALER = auto()"
   ]
  },
  {
   "cell_type": "code",
   "execution_count": 6,
   "metadata": {},
   "outputs": [],
   "source": [
    "def hand_value(hand):\n",
    "    \"Computes the value of a given hand.\"\n",
    "\n",
    "    total = 0\n",
    "    num_aces = 0\n",
    "    for card in hand:\n",
    "        if card == Card.A:\n",
    "            num_aces += 1\n",
    "        \n",
    "        total += card.points\n",
    "    \n",
    "    # Change available aces' value from 11 to 1,\n",
    "    # until the total is below 21.\n",
    "    while total > 21 and num_aces > 0:\n",
    "        total -= 10\n",
    "        num_aces -= 1\n",
    "            \n",
    "    return total"
   ]
  },
  {
   "cell_type": "code",
   "execution_count": 7,
   "metadata": {},
   "outputs": [],
   "source": [
    "def play_game(strategy):\n",
    "    \"Plays a game of blackjack with the given strategy.\"\n",
    "\n",
    "    deck = Deck()\n",
    "    dealer_hand = deck.take_cards(2)\n",
    "    dealer_card = dealer_hand[0]\n",
    "    \n",
    "    player_hand = deck.take_cards(2)\n",
    "    \n",
    "    while True:\n",
    "        action = strategy(player_hand, dealer_card)\n",
    "        \n",
    "        if action == Action.STAND:\n",
    "            break\n",
    "    \n",
    "        new_card = deck.take_card()\n",
    "        player_hand.append(new_card)\n",
    "        \n",
    "        value = hand_value(player_hand)\n",
    "        if value > 21:\n",
    "            return Winner.DEALER\n",
    "        elif value == 21:\n",
    "            return Winner.PLAYER\n",
    "    \n",
    "    if hand_value(player_hand) > hand_value(dealer_hand):\n",
    "        return Winner.PLAYER\n",
    "    else:\n",
    "        return Winner.DEALER"
   ]
  },
  {
   "cell_type": "code",
   "execution_count": 8,
   "metadata": {},
   "outputs": [],
   "source": [
    "def evaluate(strategy, num_experiments=50_000):\n",
    "    \"\"\"Evaluates the performance of a given blackjack strategy\n",
    "    using the Monte Carlo method.\n",
    "    \"\"\"\n",
    "\n",
    "    player_wins = 0\n",
    "\n",
    "    for _ in range(num_experiments):\n",
    "        winner = play_game(strategy)\n",
    "        if winner == Winner.PLAYER:\n",
    "            player_wins += 1\n",
    "\n",
    "    return player_wins / num_experiments"
   ]
  },
  {
   "cell_type": "code",
   "execution_count": 9,
   "metadata": {},
   "outputs": [
    {
     "data": {
      "text/plain": [
       "0.4682"
      ]
     },
     "execution_count": 9,
     "metadata": {},
     "output_type": "execute_result"
    }
   ],
   "source": [
    "def always_stand(hand, dealer_card):\n",
    "    \"Policy which just stands as soon as the hand is dealt.\"\n",
    "    return Action.STAND\n",
    "\n",
    "evaluate(always_stand)"
   ]
  },
  {
   "cell_type": "code",
   "execution_count": 10,
   "metadata": {},
   "outputs": [
    {
     "data": {
      "text/plain": [
       "0.46758"
      ]
     },
     "execution_count": 10,
     "metadata": {},
     "output_type": "execute_result"
    }
   ],
   "source": [
    "def hit_then_stand(hand, dealer_card):\n",
    "    \"Policy which hits, then immediately stands.\"\n",
    "    if len(hand) == 1:\n",
    "        return Action.HIT\n",
    "    else:\n",
    "        return Action.STAND\n",
    "\n",
    "    \n",
    "evaluate(hit_then_stand)"
   ]
  },
  {
   "cell_type": "code",
   "execution_count": 11,
   "metadata": {},
   "outputs": [
    {
     "data": {
      "text/plain": [
       "0.4865"
      ]
     },
     "execution_count": 11,
     "metadata": {},
     "output_type": "execute_result"
    }
   ],
   "source": [
    "def hit_if_less_than_dealer(hand, dealer_card):\n",
    "    \"\"\"Policy which hits only if the current hand is less than\n",
    "    the dealer's visible card.\n",
    "    \"\"\"\n",
    "\n",
    "    if hand_value(hand) < dealer_card.points:\n",
    "        return Action.HIT\n",
    "    else:\n",
    "        return Action.STAND\n",
    "\n",
    "evaluate(hit_if_less_than_dealer)"
   ]
  }
 ],
 "metadata": {
  "kernelspec": {
   "display_name": "Python 3",
   "language": "python",
   "name": "python3"
  },
  "language_info": {
   "codemirror_mode": {
    "name": "ipython",
    "version": 3
   },
   "file_extension": ".py",
   "mimetype": "text/x-python",
   "name": "python",
   "nbconvert_exporter": "python",
   "pygments_lexer": "ipython3",
   "version": "3.8.6"
  }
 },
 "nbformat": 4,
 "nbformat_minor": 4
}
