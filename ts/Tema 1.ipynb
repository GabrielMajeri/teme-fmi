{
 "cells": [
  {
   "cell_type": "markdown",
   "metadata": {},
   "source": [
    "# Determinarea valorii lui $e$ folosind metoda Monte Carlo"
   ]
  },
  {
   "cell_type": "markdown",
   "metadata": {},
   "source": [
    "Putem să determinăm valoarea numărului $e$ folosindu-ne de faptul că este egal cu valoarea medie a distribuției $X$, unde\n",
    "$$\n",
    "X = \\text{cel mai mic $n$ pentru care $\\sum_{i=1}^n r_i > 1$, unde $r_i \\sim U[0, 1]$}\n",
    "$$\n",
    "\n",
    "\n",
    "Această temă se bazează pe Russell, K. G. “Estimating the Value of e by Simulation.” The American Statistician, vol. 45, no. 1, 1991, pp. 66–68. JSTOR, www.jstor.org/stable/2685243. Accessed 25 Feb. 2021."
   ]
  },
  {
   "cell_type": "code",
   "execution_count": 1,
   "metadata": {},
   "outputs": [],
   "source": [
    "import math\n",
    "import random\n",
    "\n",
    "random.seed(7)"
   ]
  },
  {
   "cell_type": "code",
   "execution_count": 2,
   "metadata": {},
   "outputs": [],
   "source": [
    "def run_experiment():\n",
    "    \"Generates random numbers from U[0, 1] until their sum is greater than 1.\"\n",
    "    total = 0\n",
    "    num_steps = 0\n",
    "    while total <= 1:\n",
    "        total += random.uniform(0, 1)\n",
    "        num_steps += 1\n",
    "    return num_steps"
   ]
  },
  {
   "cell_type": "code",
   "execution_count": 3,
   "metadata": {},
   "outputs": [],
   "source": [
    "def compute_e(num_experiments):\n",
    "    \"Estimates the value of `e` by averaging the result of many experiments.\"\n",
    "    total = 0\n",
    "    for _ in range(num_experiments):\n",
    "        total += run_experiment()\n",
    "    return total / num_experiments"
   ]
  },
  {
   "cell_type": "code",
   "execution_count": 4,
   "metadata": {},
   "outputs": [
    {
     "name": "stdout",
     "output_type": "stream",
     "text": [
      "e este aproximativ 2.72091\n",
      "eroare absolută: 2.63e-03\n"
     ]
    }
   ],
   "source": [
    "estimate = compute_e(100_000)\n",
    "real = math.e\n",
    "abs_err = abs(real - estimate)\n",
    "print(f\"e este aproximativ {estimate}\")\n",
    "print(f\"eroare absolută: {abs_err:.2e}\")"
   ]
  }
 ],
 "metadata": {
  "kernelspec": {
   "display_name": "Python 3",
   "language": "python",
   "name": "python3"
  },
  "language_info": {
   "codemirror_mode": {
    "name": "ipython",
    "version": 3
   },
   "file_extension": ".py",
   "mimetype": "text/x-python",
   "name": "python",
   "nbconvert_exporter": "python",
   "pygments_lexer": "ipython3",
   "version": "3.8.6"
  }
 },
 "nbformat": 4,
 "nbformat_minor": 4
}
